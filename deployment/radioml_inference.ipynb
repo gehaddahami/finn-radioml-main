{
 "cells": [
  {
   "cell_type": "markdown",
   "metadata": {},
   "source": [
    "# Initialize the accelerator"
   ]
  },
  {
   "cell_type": "code",
   "execution_count": 1,
   "metadata": {},
   "outputs": [],
   "source": [
    "#! apt-get install libhdf5-dev -y\n",
    "#! pip install --upgrade pip setuptools wheel\n",
    "#! pip install versioned-hdf5\n",
    "#! pip install h5py\n",
    "#! pip install bitstring\n",
    "import os\n",
    "import sys\n",
    "\n",
    "#which prototype accelerator to load\n",
    "deploy_path = '/home/xilinx/radioml_deploy/G_remake'\n",
    "frequency = 250.0\n",
    "\n",
    "driver_module_path = os.path.abspath(os.path.join(deploy_path, 'driver/'))\n",
    "bitstream_path = os.path.abspath(os.path.join(deploy_path, 'bitfile/finn-accel.bit'))"
   ]
  },
  {
   "cell_type": "code",
   "execution_count": 2,
   "metadata": {},
   "outputs": [
    {
     "data": {
      "application/javascript": [
       "\n",
       "try {\n",
       "require(['notebook/js/codecell'], function(codecell) {\n",
       "  codecell.CodeCell.options_default.highlight_modes[\n",
       "      'magic_text/x-csrc'] = {'reg':[/^%%microblaze/]};\n",
       "  Jupyter.notebook.events.one('kernel_ready.Kernel', function(){\n",
       "      Jupyter.notebook.get_cells().map(function(cell){\n",
       "          if (cell.cell_type == 'code'){ cell.auto_highlight(); } }) ;\n",
       "  });\n",
       "});\n",
       "} catch (e) {};\n"
      ]
     },
     "metadata": {},
     "output_type": "display_data"
    },
    {
     "data": {
      "application/javascript": [
       "\n",
       "try {\n",
       "require(['notebook/js/codecell'], function(codecell) {\n",
       "  codecell.CodeCell.options_default.highlight_modes[\n",
       "      'magic_text/x-csrc'] = {'reg':[/^%%pybind11/]};\n",
       "  Jupyter.notebook.events.one('kernel_ready.Kernel', function(){\n",
       "      Jupyter.notebook.get_cells().map(function(cell){\n",
       "          if (cell.cell_type == 'code'){ cell.auto_highlight(); } }) ;\n",
       "  });\n",
       "});\n",
       "} catch (e) {};\n"
      ]
     },
     "metadata": {},
     "output_type": "display_data"
    }
   ],
   "source": [
    "# load driver from directory (don't use installed finn-examples driver)\n",
    "if driver_module_path not in sys.path:\n",
    "    sys.path.append(driver_module_path)\n",
    "\n",
    "from driver_base import FINNExampleOverlay\n",
    "from qonnx.core.datatype import DataType\n",
    "\n",
    "from driver import io_shape_dict\n",
    "# taken from generated driver.py:\n",
    "#io_shape_dict = {\n",
    "#    # FINN DataType for input and output tensors\n",
    "#    \"idt\" : [DataType['INT8']],\n",
    "#    \"odt\" : [DataType['UINT8']],\n",
    "#    # shapes for input and output tensors (NHWC layout)\n",
    "#    \"ishape_normal\" : [(1, 1024, 1, 2)],\n",
    "#    \"oshape_normal\" : [(1, 1)],\n",
    "#    # folded / packed shapes below depend on idt/odt and input/output\n",
    "#    # PE/SIMD parallelization settings -- these are calculated by the\n",
    "#    # FINN compiler.\n",
    "#    \"ishape_folded\" : [(1, 256, 1, 1, 8)],\n",
    "#    \"oshape_folded\" : [(1, 1, 1)],\n",
    "#    \"ishape_packed\" : [(1, 256, 1, 1, 8)],\n",
    "#    \"oshape_packed\" : [(1, 1, 1)],\n",
    "#    \"input_dma_name\" : ['idma0'],\n",
    "#    \"output_dma_name\" : ['odma0'],\n",
    "#    \"number_of_external_weights\": 0,\n",
    "#    \"num_inputs\" : 1,\n",
    "#    \"num_outputs\" : 1,\n",
    "#}"
   ]
  },
  {
   "cell_type": "code",
   "execution_count": 3,
   "metadata": {},
   "outputs": [],
   "source": [
    "# manual FINNExampleOverlay instantiation (don't use models.py from finn-examples)\n",
    "# this programs the device\n",
    "accel = FINNExampleOverlay(\n",
    "        bitfile_name = bitstream_path, platform = \"zynq-iodma\",\n",
    "        io_shape_dict = io_shape_dict, batch_size = 1, fclk_mhz = frequency)"
   ]
  },
  {
   "cell_type": "code",
   "execution_count": 4,
   "metadata": {},
   "outputs": [
    {
     "name": "stdout",
     "output_type": "stream",
     "text": [
      "Expected input shape and datatype: (1, 1024, 1, 2) INT8\n",
      "Expected output shape and datatype: (1, 1) UINT8\n"
     ]
    }
   ],
   "source": [
    "print(\"Expected input shape and datatype: %s %s\" % (str(accel.ishape_normal(0)), str(accel.idt(0))))\n",
    "print(\"Expected output shape and datatype: %s %s\" % (str(accel.oshape_normal(0)), str(accel.odt(0))))"
   ]
  },
  {
   "cell_type": "code",
   "execution_count": 5,
   "metadata": {},
   "outputs": [
    {
     "name": "stdout",
     "output_type": "stream",
     "text": [
      "GENERATING RANDOM INPUT BATCH..\n",
      "STARTING POWER TEST..\n",
      "FINISHED POWER TEST\n",
      "{'runtime[ms]': 124240.4088973999, 'throughput[images/s]': 241.46733149256272, 'fclk[mhz]': 249.9975, 'batch_size': 30000}\n"
     ]
    }
   ],
   "source": [
    "# Run throughput test continuously for power testing\n",
    "import numpy as np\n",
    "import time\n",
    "from pynq.ps import Clocks\n",
    "from qonnx.util.basic import gen_finn_dt_tensor\n",
    "\n",
    "accel.batch_size = 30000\n",
    "\n",
    "# PREPARE A BATCH OF RANDOM INPUT DATA\n",
    "print(\"GENERATING RANDOM INPUT BATCH..\")\n",
    "input_npy = np.random.randint(-128, 128, accel.ishape_normal(0), np.int8)\n",
    "ibuf_folded = accel.fold_input(input_npy, ind=0)\n",
    "ibuf_packed = accel.pack_input(ibuf_folded, ind=0)\n",
    "accel.copy_input_data_to_device(ibuf_packed, ind=0)\n",
    "\n",
    "print(\"STARTING POWER TEST..\")\n",
    "res = {}\n",
    "start = time.time()\n",
    "for i in range(1000):\n",
    "    accel.execute_on_buffers()\n",
    "end = time.time()\n",
    "print(\"FINISHED POWER TEST\")\n",
    "\n",
    "\n",
    "runtime = end - start\n",
    "res[\"runtime[ms]\"] = runtime * 1000\n",
    "res[\"throughput[images/s]\"] = accel.batch_size / runtime\n",
    "res[\"fclk[mhz]\"] = Clocks.fclk0_mhz\n",
    "res[\"batch_size\"] = accel.batch_size\n",
    "\n",
    "print(res)"
   ]
  },
  {
   "cell_type": "markdown",
   "metadata": {},
   "source": [
    "# Load RadioML 2018 dataset"
   ]
  },
  {
   "cell_type": "code",
   "execution_count": 5,
   "metadata": {},
   "outputs": [
    {
     "name": "stdout",
     "output_type": "stream",
     "text": [
      "/home/xilinx/dataset/RadioML/2018\n"
     ]
    }
   ],
   "source": [
    "import numpy as np\n",
    "import math\n",
    "import pickle\n",
    "import os\n",
    "import h5py\n",
    "\n",
    "dataset_dir = \"/home/xilinx/dataset/RadioML/2018\"\n",
    "print(dataset_dir)"
   ]
  },
  {
   "cell_type": "code",
   "execution_count": 6,
   "metadata": {},
   "outputs": [],
   "source": [
    "h5_file = h5py.File(dataset_dir + \"/GOLD_XYZ_OSC.0001_1024.hdf5\",'r')\n",
    "data_h5 = h5_file['X']\n",
    "label_mod = np.argmax(h5_file['Y'], axis=1) # comes in one-hot encoding\n",
    "label_snr = h5_file['Z'][:,0]\n",
    "\n",
    "# assemble list of test set indices\n",
    "# do not pre-load large dataset into memory\n",
    "np.random.seed(2018)\n",
    "test_indices = []\n",
    "for mod in range(0, 24): #all modulations (0 to 23)\n",
    "    for snr_idx in range(0, 26): #all SNRs (0 to 25 = -20dB to +30dB)\n",
    "        start_idx = 26*4096*mod + 4096*snr_idx\n",
    "        indices_subclass = list(range(start_idx, start_idx+4096))\n",
    "\n",
    "        split = int(np.ceil(0.1 * 4096)) #90%/10% split\n",
    "        np.random.shuffle(indices_subclass)\n",
    "        train_indices_subclass, val_indices_subclass = indices_subclass[split:], indices_subclass[:split]\n",
    "\n",
    "        if snr_idx >= 25: #select which SNRs to test on\n",
    "            test_indices.extend(val_indices_subclass)\n",
    "\n",
    "test_indices = sorted(test_indices)\n",
    "\n",
    "# note: labels given in the \"classes.txt\" file are not in the correct order (https://github.com/radioML/dataset/issues/25)\n",
    "mod_classes = ['OOK','4ASK','8ASK','BPSK','QPSK','8PSK','16PSK','32PSK',\n",
    "'16APSK','32APSK','64APSK','128APSK','16QAM','32QAM','64QAM','128QAM','256QAM',\n",
    "'AM-SSB-WC','AM-SSB-SC','AM-DSB-WC','AM-DSB-SC','FM','GMSK','OQPSK']\n",
    "snr_classes = np.arange(-20., 32., 2) # -20dB to 30dB"
   ]
  },
  {
   "cell_type": "code",
   "execution_count": 7,
   "metadata": {},
   "outputs": [
    {
     "name": "stdout",
     "output_type": "stream",
     "text": [
      "(2555904, 1024, 2)\n",
      "(2555904,)\n",
      "(2555904,)\n",
      "9840\n"
     ]
    }
   ],
   "source": [
    "print(data_h5.shape)\n",
    "print(label_mod.shape)\n",
    "print(label_snr.shape)\n",
    "print(len(test_indices))"
   ]
  },
  {
   "cell_type": "markdown",
   "metadata": {},
   "source": [
    "# Inspect a single sample"
   ]
  },
  {
   "cell_type": "code",
   "execution_count": 8,
   "metadata": {},
   "outputs": [
    {
     "name": "stdout",
     "output_type": "stream",
     "text": [
      "Modulation: BPSK, SNR: 30.0 dB\n"
     ]
    },
    {
     "data": {
      "image/png": "[encoded data removed]",
      "text/plain": [
       "<Figure size 432x288 with 1 Axes>"
      ]
     },
     "metadata": {
      "needs_background": "light"
     },
     "output_type": "display_data"
    }
   ],
   "source": [
    "%matplotlib inline\n",
    "from matplotlib import pyplot as plt\n",
    "\n",
    "# Inspect a frame\n",
    "mod = 3 # 0 to 23\n",
    "snr_idx = 25 # 0 to 25 = -20dB to +30dB\n",
    "sample = 122 # 0 to 4095\n",
    "#-----------------------#\n",
    "idx = 26*4096*mod + 4096*snr_idx + sample\n",
    "data, mod, snr = data_h5[idx], label_mod[idx], label_snr[idx]\n",
    "plt.figure()\n",
    "plt.plot(data)\n",
    "print(\"Modulation: %s, SNR: %.1f dB\" % (mod_classes[mod], snr))"
   ]
  },
  {
   "cell_type": "markdown",
   "metadata": {},
   "source": [
    "# Input Quantization (on-the-fly)"
   ]
  },
  {
   "cell_type": "code",
   "execution_count": 9,
   "metadata": {},
   "outputs": [],
   "source": [
    "def quantize(data):\n",
    "    quant_min = -2.0\n",
    "    quant_max = 2.0\n",
    "    quant_range = quant_max - quant_min\n",
    "    data_quant = (data - quant_min) / quant_range\n",
    "    data_quant = np.round(data_quant * 256) - 128\n",
    "    data_quant = np.clip(data_quant, -128, 127)\n",
    "    data_quant = data_quant.astype(np.int8)\n",
    "    return data_quant"
   ]
  },
  {
   "cell_type": "markdown",
   "metadata": {},
   "source": [
    "# Classify a single sample"
   ]
  },
  {
   "cell_type": "code",
   "execution_count": 10,
   "metadata": {},
   "outputs": [
    {
     "name": "stdout",
     "output_type": "stream",
     "text": [
      "Input buffer shape is (1, 1024, 1, 2) and datatype is int8\n"
     ]
    }
   ],
   "source": [
    "accel_in = quantize(data).reshape(accel.ishape_normal(0))\n",
    "print(\"Input buffer shape is %s and datatype is %s\" % (str(accel_in.shape), str(accel_in.dtype)))"
   ]
  },
  {
   "cell_type": "code",
   "execution_count": 11,
   "metadata": {},
   "outputs": [],
   "source": [
    "accel_out = accel.execute(accel_in)"
   ]
  },
  {
   "cell_type": "code",
   "execution_count": 12,
   "metadata": {},
   "outputs": [
    {
     "name": "stdout",
     "output_type": "stream",
     "text": [
      "Result: [[3.]]\n",
      "Top-1 class predicted by the accelerator: BPSK\n"
     ]
    }
   ],
   "source": [
    "print(\"Result: \" + str(accel_out))\n",
    "print(\"Top-1 class predicted by the accelerator: \" + mod_classes[int(accel_out)])"
   ]
  },
  {
   "cell_type": "code",
   "execution_count": 13,
   "metadata": {},
   "outputs": [
    {
     "name": "stdout",
     "output_type": "stream",
     "text": [
      "687 µs ± 1.81 µs per loop (mean ± std. dev. of 7 runs, 1000 loops each)\n"
     ]
    }
   ],
   "source": [
    "%%timeit\n",
    "accel_out = accel.execute(accel_in)"
   ]
  },
  {
   "cell_type": "markdown",
   "metadata": {},
   "source": [
    "# Validate accuracy on entire validation set"
   ]
  },
  {
   "cell_type": "code",
   "execution_count": 13,
   "metadata": {},
   "outputs": [
    {
     "name": "stdout",
     "output_type": "stream",
     "text": [
      "Accelerator buffer shapes are (1000, 1024, 1, 1, 2) for input, (1000, 1, 1) for output\n",
      "Accelerator buffer shapes are (1000, 1024, 1, 1, 2) for input, (1000, 1, 1) for output\n",
      "Accelerator buffer shapes are (1000, 1024, 1, 2) for input, (1000, 1) for output\n"
     ]
    }
   ],
   "source": [
    "batch_size = 1000\n",
    "accel.batch_size = batch_size\n",
    "print(\"Accelerator buffer shapes are %s for input, %s for output\" % (str(accel.ishape_packed(0)), str(accel.oshape_packed(0))) )\n",
    "print(\"Accelerator buffer shapes are %s for input, %s for output\" % (str(accel.ishape_folded(0)), str(accel.oshape_folded(0))) )\n",
    "print(\"Accelerator buffer shapes are %s for input, %s for output\" % (str(accel.ishape_normal(0)), str(accel.oshape_normal(0))) )"
   ]
  },
  {
   "cell_type": "code",
   "execution_count": 14,
   "metadata": {
    "scrolled": true
   },
   "outputs": [
    {
     "name": "stdout",
     "output_type": "stream",
     "text": [
      "batch 0 : total OK 1000 NOK 0\n",
      "batch 1 : total OK 2000 NOK 0\n",
      "batch 2 : total OK 2998 NOK 2\n",
      "batch 3 : total OK 3996 NOK 4\n",
      "batch 4 : total OK 4989 NOK 11\n",
      "batch 5 : total OK 5973 NOK 27\n",
      "batch 6 : total OK 6836 NOK 164\n",
      "batch 7 : total OK 7457 NOK 543\n",
      "batch 8 : total OK 8417 NOK 583\n",
      "batch 9 : total OK 9257 NOK 583\n"
     ]
    }
   ],
   "source": [
    "ok = 0\n",
    "nok = 0\n",
    "total = len(test_indices)\n",
    "for i_batch in range(math.ceil(total/batch_size)):\n",
    "    i_frame = i_batch*batch_size\n",
    "    if i_frame+batch_size > total:\n",
    "        batch_size = total - i_frame\n",
    "        accel.batch_size = batch_size\n",
    "    batch_indices = test_indices[i_frame:i_frame+batch_size]\n",
    "    data, mod, snr = data_h5[batch_indices], label_mod[batch_indices], label_snr[batch_indices]\n",
    "\n",
    "    ibuf = quantize(data).reshape(accel.ishape_normal(0))\n",
    "    obuf = accel.execute(ibuf)\n",
    "\n",
    "    pred = obuf.reshape(batch_size).astype(int)\n",
    "\n",
    "    ok += np.equal(pred, mod).sum().item()\n",
    "    nok += np.not_equal(pred, mod).sum().item()\n",
    "    \n",
    "    print(\"batch %d : total OK %d NOK %d\" % (i_batch, ok, nok))"
   ]
  },
  {
   "cell_type": "code",
   "execution_count": 15,
   "metadata": {},
   "outputs": [
    {
     "name": "stdout",
     "output_type": "stream",
     "text": [
      "Measured top-1 accuracy: 94.07520325203252%\n"
     ]
    }
   ],
   "source": [
    "acc = 100.0 * ok / (total)\n",
    "print(\"Measured top-1 accuracy: {}%\".format(acc))"
   ]
  },
  {
   "cell_type": "markdown",
   "metadata": {},
   "source": [
    "## Benchmarking"
   ]
  },
  {
   "cell_type": "code",
   "execution_count": 16,
   "metadata": {},
   "outputs": [
    {
     "name": "stdout",
     "output_type": "stream",
     "text": [
      "{'runtime[ms]': 4.335641860961914, 'throughput[images/s]': 230646.35688754468, 'DRAM_in_bandwidth[Mb/s]': 472.3637389056915, 'DRAM_out_bandwidth[Mb/s]': 0.23064635688754467, 'fclk[mhz]': 249.9975, 'batch_size': 1000, 'fold_input[ms]': 0.08153915405273438, 'pack_input[ms]': 0.060558319091796875, 'copy_input_data_to_device[ms]': 2.0253658294677734, 'copy_output_data_from_device[ms]': 0.12421607971191406, 'unpack_output[ms]': 0.46634674072265625, 'unfold_output[ms]': 0.06103515625}\n",
      "{'runtime[ms]': 41.571855545043945, 'throughput[images/s]': 240547.3575545551, 'DRAM_in_bandwidth[Mb/s]': 492.6409882717289, 'DRAM_out_bandwidth[Mb/s]': 0.2405473575545551, 'fclk[mhz]': 249.9975, 'batch_size': 10000, 'fold_input[ms]': 0.09202957153320312, 'pack_input[ms]': 0.0667572021484375, 'copy_input_data_to_device[ms]': 18.66745948791504, 'copy_output_data_from_device[ms]': 0.12874603271484375, 'unpack_output[ms]': 0.4763603210449219, 'unfold_output[ms]': 0.06270408630371094}\n",
      "{'runtime[ms]': 124.32336807250977, 'throughput[images/s]': 241306.20385463611, 'DRAM_in_bandwidth[Mb/s]': 494.19510549429475, 'DRAM_out_bandwidth[Mb/s]': 0.2413062038546361, 'fclk[mhz]': 249.9975, 'batch_size': 30000, 'fold_input[ms]': 0.095367431640625, 'pack_input[ms]': 0.06723403930664062, 'copy_input_data_to_device[ms]': 50.32777786254883, 'copy_output_data_from_device[ms]': 0.13971328735351562, 'unpack_output[ms]': 0.5044937133789062, 'unfold_output[ms]': 0.07748603820800781}\n"
     ]
    }
   ],
   "source": [
    "# Run throughput test once\n",
    "accel.batch_size = 1000\n",
    "print(accel.throughput_test())\n",
    "accel.batch_size = 10000\n",
    "print(accel.throughput_test())\n",
    "accel.batch_size = 30000\n",
    "print(accel.throughput_test())"
   ]
  },
  {
   "cell_type": "code",
   "execution_count": 6,
   "metadata": {},
   "outputs": [
    {
     "name": "stdout",
     "output_type": "stream",
     "text": [
      "GENERATING RANDOM INPUT BATCH..\n",
      "STARTING POWER TEST..\n",
      "FINISHED POWER TEST\n",
      "{'runtime[ms]': 124480.26490211487, 'throughput[images/s]': 241.0020578249132, 'fclk[mhz]': 249.9975, 'batch_size': 30000}\n"
     ]
    }
   ],
   "source": [
    "# Run throughput test continuously for power testing\n",
    "import time\n",
    "from pynq.ps import Clocks\n",
    "from qonnx.util.basic import gen_finn_dt_tensor\n",
    "\n",
    "accel.batch_size = 30000\n",
    "\n",
    "# PREPARE A BATCH OF RANDOM INPUT DATA\n",
    "print(\"GENERATING RANDOM INPUT BATCH..\")\n",
    "input_npy = np.random.randint(-128, 128, accel.ishape_normal(0), np.int8)\n",
    "ibuf_folded = accel.fold_input(input_npy, ind=0)\n",
    "ibuf_packed = accel.pack_input(ibuf_folded, ind=0)\n",
    "accel.copy_input_data_to_device(ibuf_packed, ind=0)\n",
    "\n",
    "print(\"STARTING POWER TEST..\")\n",
    "res = {}\n",
    "start = time.time()\n",
    "for i in range(1000):\n",
    "    accel.execute_on_buffers()\n",
    "end = time.time()\n",
    "print(\"FINISHED POWER TEST\")\n",
    "\n",
    "\n",
    "runtime = end - start\n",
    "res[\"runtime[ms]\"] = runtime * 1000\n",
    "res[\"throughput[images/s]\"] = accel.batch_size / runtime\n",
    "res[\"fclk[mhz]\"] = Clocks.fclk0_mhz\n",
    "res[\"batch_size\"] = accel.batch_size\n",
    "\n",
    "print(res)"
   ]
  },
  {
   "cell_type": "code",
   "execution_count": null,
   "metadata": {},
   "outputs": [],
   "source": []
  }
 ],
 "metadata": {
  "kernelspec": {
   "display_name": "Python 3",
   "language": "python",
   "name": "python3"
  },
  "language_info": {
   "codemirror_mode": {
    "name": "ipython",
    "version": 3
   },
   "file_extension": ".py",
   "mimetype": "text/x-python",
   "name": "python",
   "nbconvert_exporter": "python",
   "pygments_lexer": "ipython3",
   "version": "3.8.2"
  }
 },
 "nbformat": 4,
 "nbformat_minor": 4
}
